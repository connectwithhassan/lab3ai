{
 "cells": [
  {
   "cell_type": "code",
   "execution_count": 2,
   "id": "e1832607-91c1-4acc-81bf-33e41d6dee4e",
   "metadata": {},
   "outputs": [
    {
     "name": "stdout",
     "output_type": "stream",
     "text": [
      "Prediction for (Weather='Overcast', Temperature='Mild'): Yes\n",
      "Confusion Matrix:\n",
      "[[1 0]\n",
      " [1 1]]\n",
      "Accuracy: 0.67\n"
     ]
    },
    {
     "name": "stderr",
     "output_type": "stream",
     "text": [
      "C:\\ProgramData\\anaconda3\\Lib\\site-packages\\sklearn\\base.py:493: UserWarning: X does not have valid feature names, but KNeighborsClassifier was fitted with feature names\n",
      "  warnings.warn(\n"
     ]
    }
   ],
   "source": [
    "import pandas as pd\n",
    "from sklearn.model_selection import train_test_split\n",
    "from sklearn.neighbors import KNeighborsClassifier\n",
    "from sklearn.metrics import confusion_matrix, accuracy_score\n",
    "from sklearn.preprocessing import LabelEncoder\n",
    "\n",
    "data = {\n",
    "    'Weather': ['Sunny', 'Sunny', 'Overcast', 'Rainy', 'Rainy', 'Rainy', 'Overcast', 'Sunny', 'Sunny', 'Rainy', 'Sunny', 'Overcast', 'Overcast', 'Rainy'],\n",
    "    'Temperature': ['Hot', 'Hot', 'Hot', 'Mild', 'Cool', 'Cool', 'Cool', 'Mild', 'Cool', 'Mild', 'Mild', 'Mild', 'Hot', 'Mild'],\n",
    "    'Play': ['No', 'No', 'Yes', 'Yes', 'Yes', 'No', 'Yes', 'No', 'Yes', 'Yes', 'Yes', 'Yes', 'Yes', 'No']\n",
    "}\n",
    "\n",
    "df = pd.DataFrame(data)\n",
    "\n",
    "le_weather = LabelEncoder()\n",
    "le_temp = LabelEncoder()\n",
    "le_play = LabelEncoder()\n",
    "\n",
    "df['Weather'] = le_weather.fit_transform(df['Weather'])\n",
    "df['Temperature'] = le_temp.fit_transform(df['Temperature'])\n",
    "df['Play'] = le_play.fit_transform(df['Play'])\n",
    "\n",
    "X = df[['Weather', 'Temperature']]\n",
    "y = df['Play']\n",
    "\n",
    "X_train, X_test, y_train, y_test = train_test_split(X, y, test_size=0.2, random_state=42)\n",
    "\n",
    "knn = KNeighborsClassifier(n_neighbors=3)\n",
    "knn.fit(X_train, y_train)\n",
    "\n",
    "test_weather = le_weather.transform(['Overcast'])[0]\n",
    "test_temp = le_temp.transform(['Mild'])[0]\n",
    "prediction = knn.predict([[test_weather, test_temp]])\n",
    "\n",
    "predicted_label = le_play.inverse_transform(prediction)[0]\n",
    "print(f\"Prediction for (Weather='Overcast', Temperature='Mild'): {predicted_label}\")\n",
    "\n",
    "y_pred = knn.predict(X_test)\n",
    "conf_matrix = confusion_matrix(y_test, y_pred)\n",
    "accuracy = accuracy_score(y_test, y_pred)\n",
    "\n",
    "print(\"Confusion Matrix:\")\n",
    "print(conf_matrix)\n",
    "print(f\"Accuracy: {accuracy:.2f}\")\n"
   ]
  },
  {
   "cell_type": "code",
   "execution_count": 4,
   "id": "8f1ed8ee-5673-41a2-a3a2-42e0b1460bb8",
   "metadata": {},
   "outputs": [
    {
     "name": "stdout",
     "output_type": "stream",
     "text": [
      "The predicted classification for the query instance (3, 7) is: Good\n",
      "Nearest Neighbors (distance, class):\n",
      "Distance: 3.00, Class: Good\n",
      "Distance: 3.61, Class: Good\n",
      "Distance: 4.00, Class: Bad\n"
     ]
    }
   ],
   "source": [
    "import numpy as np\n",
    "from collections import Counter\n",
    "\n",
    "data = [\n",
    "    (7, 7, 'Bad'),\n",
    "    (7, 4, 'Bad'),\n",
    "    (3, 4, 'Good'),\n",
    "    (1, 4, 'Good')\n",
    "]\n",
    "\n",
    "query = (3, 7)\n",
    "\n",
    "def euclidean_distance(point1, point2):\n",
    "    return np.sqrt((point1[0] - point2[0]) ** 2 + (point1[1] - point2[1]) ** 2)\n",
    "\n",
    "distances = []\n",
    "for x1, x2, label in data:\n",
    "    distance = euclidean_distance(query, (x1, x2))\n",
    "    distances.append((distance, label))\n",
    "\n",
    "distances.sort(key=lambda x: x[0])\n",
    "\n",
    "k = 3\n",
    "nearest_neighbors = distances[:k]\n",
    "\n",
    "labels = [label for _, label in nearest_neighbors]\n",
    "predicted_class = Counter(labels).most_common(1)[0][0]\n",
    "\n",
    "print(f\"The predicted classification for the query instance (3, 7) is: {predicted_class}\")\n",
    "\n",
    "print(\"Nearest Neighbors (distance, class):\")\n",
    "for distance, label in nearest_neighbors:\n",
    "    print(f\"Distance: {distance:.2f}, Class: {label}\")\n"
   ]
  },
  {
   "cell_type": "code",
   "execution_count": null,
   "id": "9f916941-158d-48af-824d-9ac79c512171",
   "metadata": {},
   "outputs": [],
   "source": []
  }
 ],
 "metadata": {
  "kernelspec": {
   "display_name": "Python 3 (ipykernel)",
   "language": "python",
   "name": "python3"
  },
  "language_info": {
   "codemirror_mode": {
    "name": "ipython",
    "version": 3
   },
   "file_extension": ".py",
   "mimetype": "text/x-python",
   "name": "python",
   "nbconvert_exporter": "python",
   "pygments_lexer": "ipython3",
   "version": "3.12.7"
  }
 },
 "nbformat": 4,
 "nbformat_minor": 5
}
